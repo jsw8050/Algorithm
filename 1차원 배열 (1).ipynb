{
 "cells": [
  {
   "cell_type": "code",
   "execution_count": 9,
   "metadata": {
    "scrolled": true
   },
   "outputs": [
    {
     "name": "stdout",
     "output_type": "stream",
     "text": [
      "5\n",
      "20 10 35 30 7\n",
      "7 35\n"
     ]
    }
   ],
   "source": [
    "#10818번\n",
    "\n",
    "numbers = int(input())\n",
    "number_list = list(map(int, input().split()))\n",
    "\n",
    "max_num = number_list[0]\n",
    "min_num = number_list[0]\n",
    "\n",
    "for num in number_list:\n",
    "    if num > max_num:\n",
    "        max_num = num\n",
    "    if num < min_num:\n",
    "        min_num = num\n",
    "\n",
    "print(min_num, max_num)\n",
    "    \n",
    "    \n"
   ]
  },
  {
   "cell_type": "code",
   "execution_count": 19,
   "metadata": {},
   "outputs": [
    {
     "name": "stdout",
     "output_type": "stream",
     "text": [
      "5\n",
      "20 10 35 30 7\n",
      "7 35\n"
     ]
    }
   ],
   "source": [
    "numbers = int(input())\n",
    "number_list = list(map(int, input().split()))\n",
    "\n",
    "print(min(number_list), max(number_list))"
   ]
  },
  {
   "cell_type": "code",
   "execution_count": null,
   "metadata": {},
   "outputs": [],
   "source": [
    "# 2562번\n",
    "\n",
    "num_list = []\n",
    "\n",
    "for numbers in range(9):\n",
    "    num_list.append(int(input()))\n",
    "\n",
    "print(max(num_list))\n",
    "print(num_list.index(max(num_list))+1)"
   ]
  },
  {
   "cell_type": "code",
   "execution_count": null,
   "metadata": {},
   "outputs": [],
   "source": [
    "# 2577번\n",
    "\n",
    "a = int(input())\n",
    "b = int(input())\n",
    "c = int(input())\n",
    "\n",
    "num = a * b * c\n",
    "num_list = list(str(num))\n",
    "count = 0\n",
    "for i in range(10):\n",
    "    num_list_count = num_list.count(str(i))\n",
    "    print(num_list_count)\n",
    "\n",
    "\n"
   ]
  },
  {
   "cell_type": "code",
   "execution_count": null,
   "metadata": {},
   "outputs": [],
   "source": [
    "# 3052번\n",
    "\n",
    "arr = []\n",
    "for _input in range(10):\n",
    "    number = int(input())\n",
    "    arr.append(number % 42)\n",
    "    \n",
    "_set = set(arr)\n",
    "print(len(_set))\n",
    "\n"
   ]
  },
  {
   "cell_type": "code",
   "execution_count": null,
   "metadata": {},
   "outputs": [],
   "source": [
    "# 1546번\n",
    "\n",
    "n = int(input())\n",
    "score = map(int, input().split())\n",
    "score_list = list(score)\n",
    "max_score = max(score_list)\n",
    "new_list = []\n",
    "for each in score_list:\n",
    "    new_list.append(each/max_score*100)\n",
    "    \n",
    "avr = sum(new_list)/len(new_list)\n",
    "print(\"%.2f\"%avr)\n",
    "    "
   ]
  },
  {
   "cell_type": "code",
   "execution_count": 1,
   "metadata": {},
   "outputs": [
    {
     "name": "stdout",
     "output_type": "stream",
     "text": [
      "3\n",
      "OOXOOOOXX\n",
      "OOOXXXXX\n",
      "XXOX\n",
      "1\n"
     ]
    }
   ],
   "source": [
    "# 8958번\n",
    "\n",
    "n = int(input())\n",
    "for i in range(n):\n",
    "    case = str(input())\n",
    "    score = 0\n",
    "    _count = 0\n",
    "    for j in list(case):\n",
    "        if j == \"O\":\n",
    "            _count += 1\n",
    "            score += _count\n",
    "        elif j == \"X\":\n",
    "            _count = 0\n",
    "    print(score)\n",
    "    \n",
    "    \n",
    "    "
   ]
  },
  {
   "cell_type": "code",
   "execution_count": null,
   "metadata": {},
   "outputs": [],
   "source": [
    "# 4344\n",
    "\n",
    "\n",
    "c = int(input())\n",
    "for i in range(c):\n",
    "  line = list(map(int, input().split()))\n",
    "  n = line[0]\n",
    "  total = 0\n",
    "  # for i in range(1, n+1):\n",
    "  #   score = line[i]\n",
    "  #   total+=score\n",
    "  # avr = total / n\n",
    "\n",
    "  score = list(line[1:n+1])\n",
    "  avr = sum(score) / len(score)\n",
    "  count = 0\n",
    "  for i in score:\n",
    "    if i > avr:\n",
    "      count +=1\n",
    "  print(\"%.3f%%\"% (count / len(score) * 100))\n",
    "\n",
    "# print(str(round(count / list_input[0] * 100, 3)) + '%')\n",
    "\n",
    "        \n",
    "    \n"
   ]
  },
  {
   "cell_type": "code",
   "execution_count": null,
   "metadata": {},
   "outputs": [],
   "source": []
  }
 ],
 "metadata": {
  "kernelspec": {
   "display_name": "Python 3",
   "language": "python",
   "name": "python3"
  },
  "language_info": {
   "codemirror_mode": {
    "name": "ipython",
    "version": 3
   },
   "file_extension": ".py",
   "mimetype": "text/x-python",
   "name": "python",
   "nbconvert_exporter": "python",
   "pygments_lexer": "ipython3",
   "version": "3.7.6"
  }
 },
 "nbformat": 4,
 "nbformat_minor": 4
}
