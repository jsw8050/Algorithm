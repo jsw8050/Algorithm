{
 "cells": [
  {
   "cell_type": "markdown",
   "metadata": {},
   "source": [
    "### 11654 아스키 코드"
   ]
  },
  {
   "cell_type": "code",
   "execution_count": 2,
   "metadata": {},
   "outputs": [
    {
     "name": "stdout",
     "output_type": "stream",
     "text": [
      "0\n",
      "48\n"
     ]
    }
   ],
   "source": [
    "print(ord(input()))"
   ]
  },
  {
   "cell_type": "markdown",
   "metadata": {},
   "source": [
    "파이썬에는 아스키 코드 변환 함수가 있다.\n",
    "- ord() : 문자를 아스키 코드로 변환해준다.\n",
    "- chr() : 아스키 코드를 문자로 변환해준다. "
   ]
  },
  {
   "cell_type": "markdown",
   "metadata": {},
   "source": [
    "### 11720 숫자의 합"
   ]
  },
  {
   "cell_type": "code",
   "execution_count": 9,
   "metadata": {},
   "outputs": [
    {
     "name": "stdout",
     "output_type": "stream",
     "text": [
      "4\n",
      "1234\n",
      "10\n"
     ]
    }
   ],
   "source": [
    "N = int(input())\n",
    "N_list = list(input())\n",
    "result = 0\n",
    "for i in N_list:\n",
    "    result += int(i)\n",
    "\n",
    "print(result)"
   ]
  },
  {
   "cell_type": "markdown",
   "metadata": {},
   "source": [
    "### 10809 알파벳 찾기"
   ]
  },
  {
   "cell_type": "code",
   "execution_count": 18,
   "metadata": {},
   "outputs": [
    {
     "name": "stdout",
     "output_type": "stream",
     "text": [
      "baekjoon\n",
      "1 0 -1 -1 2 -1 -1 -1 -1 4 3 -1 -1 7 5 -1 -1 -1 -1 -1 -1 -1 -1 -1 -1 -1 "
     ]
    }
   ],
   "source": [
    "# 문제 이해가 어려웠음, 72ms\n",
    "\n",
    "s = list(input())\n",
    "alpha = list('abcdefghijklmnopqrstuvwxyz')\n",
    "\n",
    "array = [-1 for i in range(len(alpha))]\n",
    "\n",
    "for i in range(len(s)):\n",
    "    if array[alpha.index(s[i])] == -1:\n",
    "        array[alpha.index(s[i])] = i\n",
    "\n",
    "for j in array:\n",
    "    print(j, end=\" \")\n"
   ]
  },
  {
   "cell_type": "markdown",
   "metadata": {},
   "source": [
    "### 2675 문자열 반복"
   ]
  },
  {
   "cell_type": "code",
   "execution_count": null,
   "metadata": {},
   "outputs": [],
   "source": [
    "# 68ms\n",
    "\n",
    "tc = int(input())\n",
    "for i in range(tc):\n",
    "    r, s = input().split()\n",
    "    r = int(r)\n",
    "    s = str(s)\n",
    "    \n",
    "    for j in range(len(s)):\n",
    "        print(r*s[j], end=\"\")\n",
    "    print()"
   ]
  }
 ],
 "metadata": {
  "kernelspec": {
   "display_name": "Python 3",
   "language": "python",
   "name": "python3"
  },
  "language_info": {
   "codemirror_mode": {
    "name": "ipython",
    "version": 3
   },
   "file_extension": ".py",
   "mimetype": "text/x-python",
   "name": "python",
   "nbconvert_exporter": "python",
   "pygments_lexer": "ipython3",
   "version": "3.7.6"
  }
 },
 "nbformat": 4,
 "nbformat_minor": 4
}
