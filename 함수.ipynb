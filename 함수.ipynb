{
 "cells": [
  {
   "cell_type": "code",
   "execution_count": null,
   "metadata": {},
   "outputs": [],
   "source": [
    "# 15596 내 답\n",
    "\n",
    "def solve(a):\n",
    "    ans = sum(a)\n",
    "    return ans\n"
   ]
  },
  {
   "cell_type": "code",
   "execution_count": null,
   "metadata": {},
   "outputs": [],
   "source": [
    "# 15596 다른 답\n",
    "\n",
    "def solve(num_list):\n",
    "    ans = 0\n",
    "    for num in num_list:\n",
    "        ans += num\n",
    "    return ans"
   ]
  },
  {
   "cell_type": "code",
   "execution_count": 10,
   "metadata": {
    "scrolled": true
   },
   "outputs": [],
   "source": [
    "# 4673번 (오답 코드)\n",
    "\n",
    "def d(n):\n",
    "    print(n)\n",
    "    n_list = []\n",
    "    while True:\n",
    "        _sum = 0\n",
    "        n_list.append(n)\n",
    "        for i in str(n):\n",
    "            _sum += int(i)\n",
    "        n = n + _sum\n",
    "        print(n)\n",
    "\n",
    "        if n > 10000:\n",
    "            break\n",
    "            \n",
    "    self_num = set(range(1,10001)) - set(n_list)\n",
    "    for i in self_num:\n",
    "        print(i)"
   ]
  },
  {
   "cell_type": "code",
   "execution_count": null,
   "metadata": {},
   "outputs": [],
   "source": [
    "# 다른 정답 코드\n",
    "\n",
    "natural_num_set = set(range(1, 10001))\n",
    "generated_num_set = set()\n",
    "\n",
    "for i in range(1, 10001):\n",
    "    for j in str(i):\n",
    "        i += int(j)\n",
    "    generated_num_set.add(i)\n",
    "    \n",
    "self_num_set = natural_num_set - generated_num_set\n",
    "\n",
    "for i in sorted(self_num_set):\n",
    "    print(i)"
   ]
  },
  {
   "cell_type": "code",
   "execution_count": null,
   "metadata": {},
   "outputs": [],
   "source": [
    "# 1065\n",
    "\n",
    "n = int(input())\n",
    "\n",
    "def han(n):\n",
    "    count = 0\n",
    "    if str(n) = str(range(n[0], n[-1], d)):\n",
    "        count \n",
    "    "
   ]
  }
 ],
 "metadata": {
  "kernelspec": {
   "display_name": "Python 3",
   "language": "python",
   "name": "python3"
  },
  "language_info": {
   "codemirror_mode": {
    "name": "ipython",
    "version": 3
   },
   "file_extension": ".py",
   "mimetype": "text/x-python",
   "name": "python",
   "nbconvert_exporter": "python",
   "pygments_lexer": "ipython3",
   "version": "3.7.6"
  }
 },
 "nbformat": 4,
 "nbformat_minor": 4
}
